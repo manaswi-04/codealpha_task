{
 "cells": [
  {
   "cell_type": "code",
   "execution_count": null,
   "id": "b923207b-416c-4af5-8239-fa0338c6ac9d",
   "metadata": {},
   "outputs": [
    {
     "name": "stdout",
     "output_type": "stream",
     "text": [
      "Chatbot: Hello! Type something to start chatting (type 'bye' to exit).\n"
     ]
    },
    {
     "name": "stdout",
     "output_type": "stream",
     "text": [
      "You:  how are uh\n"
     ]
    },
    {
     "name": "stdout",
     "output_type": "stream",
     "text": [
      "Chatbot: Sorry, I didn't understand that.\n"
     ]
    },
    {
     "name": "stdout",
     "output_type": "stream",
     "text": [
      "You:  hlo\n"
     ]
    },
    {
     "name": "stdout",
     "output_type": "stream",
     "text": [
      "Chatbot: Sorry, I didn't understand that.\n"
     ]
    },
    {
     "name": "stdout",
     "output_type": "stream",
     "text": [
      "You:  hi!\n"
     ]
    },
    {
     "name": "stdout",
     "output_type": "stream",
     "text": [
      "Chatbot: Sorry, I didn't understand that.\n"
     ]
    },
    {
     "name": "stdout",
     "output_type": "stream",
     "text": [
      "You:  how are you\n"
     ]
    },
    {
     "name": "stdout",
     "output_type": "stream",
     "text": [
      "Chatbot: I'm fine, thanks!\n"
     ]
    },
    {
     "name": "stdout",
     "output_type": "stream",
     "text": [
      "You:  what's your name\n"
     ]
    },
    {
     "name": "stdout",
     "output_type": "stream",
     "text": [
      "Chatbot: Sorry, I didn't understand that.\n"
     ]
    },
    {
     "name": "stdout",
     "output_type": "stream",
     "text": [
      "You:  bye\n"
     ]
    },
    {
     "name": "stdout",
     "output_type": "stream",
     "text": [
      "Chatbot: Goodbye!\n"
     ]
    }
   ],
   "source": [
    "# Import necessary modules\n",
    "import random\n",
    "import time\n",
    "\n",
    "# Predefined joke, fact, and quote lists\n",
    "jokes = [\n",
    "    \"Why did the computer get cold? Because it left its Windows open!\",\n",
    "    \"Why did the JavaScript developer leave? Because he didn't get arrays.\",\n",
    "    \"Why do programmers prefer iOS development? Because on Android, they can't find the 'Any' key!\"\n",
    "]\n",
    "\n",
    "facts = [\n",
    "    \"Python was created by Guido van Rossum and released in 1991.\",\n",
    "    \"The first computer programmer was Ada Lovelace, in the 1800s.\",\n",
    "    \"Over 700 programming languages exist in the world today.\"\n",
    "]\n",
    "\n",
    "quotes = [\n",
    "    \"“Talk is cheap. Show me the code.” – Linus Torvalds\",\n",
    "    \"“Programs must be written for people to read.” – Harold Abelson\",\n",
    "    \"“Make it work, make it right, make it fast.” – Kent Beck\"\n",
    "]\n",
    "\n",
    "# Greet the user with welcome instructions\n",
    "def greet_user():\n",
    "    print(\"🤖 ChatBot: Hello there! I'm CodeBot, your personal chatbot.\")\n",
    "    print(\"🤖 ChatBot: You can chat with me about your mood, name, hobbies, and ask for jokes or facts.\")\n",
    "    print(\"🤖 ChatBot: You can try typing:\")\n",
    "    print(\"     - my name is [name]\")\n",
    "    print(\"     - I'm feeling happy/sad\")\n",
    "    print(\"     - tell me a joke\")\n",
    "    print(\"     - my hobby is reading\")\n",
    "    print(\"     - tell me a quote or fact\")\n",
    "    print(\"     - bye\\n\")\n",
    "\n",
    "# Detect and respond to user's mood\n",
    "def respond_to_mood(mood):\n",
    "    mood = mood.lower()\n",
    "    if \"happy\" in mood:\n",
    "        return \"😊 That's great! Happiness is contagious!\"\n",
    "    elif \"sad\" in mood:\n",
    "        return \"😢 I'm here for you. Want a joke to cheer up?\"\n",
    "    elif \"angry\" in mood:\n",
    "        return \"😤 Take a deep breath. Let's talk it out.\"\n",
    "    elif \"bored\" in mood:\n",
    "        return \"Let me entertain you with a random fact!\"\n",
    "    else:\n",
    "        return f\"Thanks for sharing! Feeling {mood} is totally okay.\"\n",
    "\n",
    "# Get chatbot response based on user input\n",
    "def get_response(user_input, user_info, message_count):\n",
    "    user_input = user_input.lower()\n",
    "    message_count += 1\n",
    "\n",
    "    if user_input.startswith(\"my name is\"):\n",
    "        name = user_input.replace(\"my name is\", \"\").strip().capitalize()\n",
    "        user_info[\"name\"] = name\n",
    "        return f\"Nice to meet you, {name}! 😊\", message_count\n",
    "\n",
    "    elif user_input.startswith(\"my age is\"):\n",
    "        age = user_input.replace(\"my age is\", \"\").strip()\n",
    "        user_info[\"age\"] = age\n",
    "        return f\"Cool! You're {age} years young!\", message_count\n",
    "\n",
    "    elif user_input.startswith(\"my hobby is\"):\n",
    "        hobby = user_input.replace(\"my hobby is\", \"\").strip()\n",
    "        user_info[\"hobby\"] = hobby\n",
    "        return f\"That sounds fun! I wish I could try {hobby} too 😄\", message_count\n",
    "\n",
    "    elif \"how are you\" in user_input:\n",
    "        return \"I'm functioning well! How about you?\", message_count\n",
    "\n",
    "    elif \"how old are you\" in user_input:\n",
    "        return \"I'm just code! But I stay forever young 😉\", message_count\n",
    "\n",
    "    elif \"i'm feeling\" in user_input or \"i am feeling\" in user_input:\n",
    "        mood = user_input.replace(\"i'm feeling\", \"\").replace(\"i am feeling\", \"\").strip()\n",
    "        return respond_to_mood(mood), message_count\n",
    "\n",
    "    elif \"tell me a joke\" in user_input:\n",
    "        return random.choice(jokes), message_count\n",
    "\n",
    "    elif \"tell me a fact\" in user_input:\n",
    "        return random.choice(facts), message_count\n",
    "\n",
    "    elif \"tell me a quote\" in user_input:\n",
    "        return random.choice(quotes), message_count\n",
    "\n",
    "    elif \"what's your name\" in user_input or \"your name\" in user_input:\n",
    "        return \"I'm CodeBot, built entirely in Python to chat with awesome people like you!\", message_count\n",
    "\n",
    "    elif \"thank you\" in user_input:\n",
    "        return \"You're very welcome! 😊\", message_count\n",
    "\n",
    "    elif \"bye\" == user_input:\n",
    "        name = user_info.get(\"name\", \"friend\")\n",
    "        return f\"Goodbye, {name}! You chatted with me {message_count} times. See you again! 👋\", message_count\n",
    "\n",
    "    else:\n",
    "        return (\n",
    "            \"Hmm... I didn't understand that. Try saying things like:\\n\"\n",
    "            \" - tell me a joke\\n\"\n",
    "            \" - my hobby is singing\\n\"\n",
    "            \" - I'm feeling bored\", message_count\n",
    "        )\n",
    "\n",
    "# The main chatbot loop\n",
    "def chatbot():\n",
    "    user_info = {}\n",
    "    message_count = 0\n",
    "    greet_user()\n",
    "\n",
    "    while True:\n",
    "        user_input = input(\"You: \")\n",
    "        response, message_count = get_response(user_input, user_info, message_count)\n",
    "        print(\"CodeBot:\", response)\n",
    "\n",
    "        if user_input.lower() == \"bye\":\n",
    "            break\n",
    "\n",
    "# Start chatbot\n",
    "chatbot()"
   ]
  },
  {
   "cell_type": "code",
   "execution_count": null,
   "id": "2fb95a55-ec0f-45c9-a4e1-66ffeaec646f",
   "metadata": {},
   "outputs": [],
   "source": []
  }
 ],
 "metadata": {
  "kernelspec": {
   "display_name": "Python [conda env:base] *",
   "language": "python",
   "name": "conda-base-py"
  },
  "language_info": {
   "codemirror_mode": {
    "name": "ipython",
    "version": 3
   },
   "file_extension": ".py",
   "mimetype": "text/x-python",
   "name": "python",
   "nbconvert_exporter": "python",
   "pygments_lexer": "ipython3",
   "version": "3.12.7"
  }
 },
 "nbformat": 4,
 "nbformat_minor": 5
}
